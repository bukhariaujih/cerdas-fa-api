{
 "cells": [
  {
   "cell_type": "code",
   "execution_count": 19,
   "id": "2814927c-23a0-47fb-9c04-086f727e4b18",
   "metadata": {},
   "outputs": [
    {
     "ename": "SyntaxError",
     "evalue": "invalid syntax (3541530331.py, line 1)",
     "output_type": "error",
     "traceback": [
      "\u001b[0;36m  Cell \u001b[0;32mIn[19], line 1\u001b[0;36m\u001b[0m\n\u001b[0;31m    curl -X POST -H \"Content-Type: multipart/form-data\" -F \"file=@/home/cisir2/Desktop/bukhari/fa_api/img2.jpg\" http://localhost:3000/analyze-face\u001b[0m\n\u001b[0m            ^\u001b[0m\n\u001b[0;31mSyntaxError\u001b[0m\u001b[0;31m:\u001b[0m invalid syntax\n"
     ]
    }
   ],
   "source": [
    "url -X POST -H \"Content-Type: multipart/form-data\" -F \"file=@/home/cisir2/Desktop/bukhari/fa_api/img2.jpg\" http://0.0.0.0:8090/analyze-face"
   ]
  },
  {
   "cell_type": "code",
   "execution_count": 3,
   "id": "d85920cf-d734-47f4-a1d4-a8cf9aca3759",
   "metadata": {},
   "outputs": [
    {
     "name": "stderr",
     "output_type": "stream",
     "text": [
      "2024-01-25 18:46:11.127746: I external/local_xla/xla/stream_executor/cuda/cuda_executor.cc:901] successful NUMA node read from SysFS had negative value (-1), but there must be at least one NUMA node, so returning NUMA node zero. See more at https://github.com/torvalds/linux/blob/v6.0/Documentation/ABI/testing/sysfs-bus-pci#L344-L355\n",
      "2024-01-25 18:46:11.128524: W tensorflow/core/common_runtime/gpu/gpu_device.cc:2256] Cannot dlopen some GPU libraries. Please make sure the missing libraries mentioned above are installed properly if you would like to use GPU. Follow the guide at https://www.tensorflow.org/install/gpu for how to download and setup the required libraries for your platform.\n",
      "Skipping registering GPU devices...\n",
      "Action: race: 100%|███████████████████████████████████████████████████████████████████████████████████████████████████████████████████████████████████████████████████████████| 4/4 [00:00<00:00,  5.41it/s]\n"
     ]
    }
   ],
   "source": [
    "# main.py\n",
    "from fastapi import FastAPI, File, UploadFile, HTTPException\n",
    "from fastapi.responses import JSONResponse\n",
    "from deepface import DeepFace\n",
    "\n",
    "path = \"/home/cisir2/Desktop/bukhari/fa_api/img2.jpg\"\n",
    "\n",
    "def analyze_face(path):\n",
    "    try:\n",
    "        result = DeepFace.analyze(path, actions=['emotion', 'age', 'gender', 'race'])\n",
    "        return JSONResponse(content=result)\n",
    "    except Exception as e:\n",
    "        raise HTTPException(status_code=500, detail=f\"Error analyzing face: {str(e)}\")  \n",
    "\n",
    "demographies = analyze_face(path)"
   ]
  },
  {
   "cell_type": "code",
   "execution_count": 6,
   "id": "5b73b5f1-0c81-4706-85f5-cb1599dc6ed7",
   "metadata": {},
   "outputs": [
    {
     "data": {
      "text/plain": [
       "<starlette.responses.JSONResponse at 0x7f62a133f340>"
      ]
     },
     "execution_count": 6,
     "metadata": {},
     "output_type": "execute_result"
    }
   ],
   "source": [
    "demographies"
   ]
  },
  {
   "cell_type": "code",
   "execution_count": 7,
   "id": "cbaa4c8f-dc7d-488c-a796-aa7db4cb06f6",
   "metadata": {},
   "outputs": [
    {
     "name": "stderr",
     "output_type": "stream",
     "text": [
      "Action: race: 100%|███████████████████████████████████████████████████████████████████████████████████████████████████████████████████████████████████████████████████████████| 4/4 [00:00<00:00,  9.92it/s]\n"
     ]
    }
   ],
   "source": [
    "result = DeepFace.analyze(path, actions=['emotion', 'age', 'gender', 'race'])"
   ]
  },
  {
   "cell_type": "code",
   "execution_count": 8,
   "id": "6f2e49b1-bff3-472d-be33-b6eb557e5ef8",
   "metadata": {},
   "outputs": [
    {
     "data": {
      "text/plain": [
       "[{'emotion': {'angry': 6.4261656946585755e-21,\n",
       "   'disgust': 0.0,\n",
       "   'fear': 1.1585355746969857e-26,\n",
       "   'happy': 100.0,\n",
       "   'sad': 5.2277158138740135e-17,\n",
       "   'surprise': 4.701511749360954e-09,\n",
       "   'neutral': 4.417930021816119e-07},\n",
       "  'dominant_emotion': 'happy',\n",
       "  'region': {'x': 345, 'y': 211, 'w': 769, 'h': 769},\n",
       "  'face_confidence': 10.068783960014116,\n",
       "  'age': 31,\n",
       "  'gender': {'Woman': 99.99407529830933, 'Man': 0.005928758764639497},\n",
       "  'dominant_gender': 'Woman',\n",
       "  'race': {'asian': 9.939994663000107,\n",
       "   'indian': 13.22726309299469,\n",
       "   'black': 3.6370791494846344,\n",
       "   'white': 23.46402108669281,\n",
       "   'middle eastern': 20.388375222682953,\n",
       "   'latino hispanic': 29.343268275260925},\n",
       "  'dominant_race': 'latino hispanic'}]"
      ]
     },
     "execution_count": 8,
     "metadata": {},
     "output_type": "execute_result"
    }
   ],
   "source": [
    "result"
   ]
  },
  {
   "cell_type": "code",
   "execution_count": 10,
   "id": "8f018c8a-0b78-4299-abed-65bde7a655a8",
   "metadata": {},
   "outputs": [
    {
     "data": {
      "text/plain": [
       "200"
      ]
     },
     "execution_count": 10,
     "metadata": {},
     "output_type": "execute_result"
    }
   ],
   "source": [
    "demographies.status_code"
   ]
  },
  {
   "cell_type": "code",
   "execution_count": 18,
   "id": "72f08b7c-d84c-4710-b361-1ff3ce59aefc",
   "metadata": {},
   "outputs": [
    {
     "name": "stderr",
     "output_type": "stream",
     "text": [
      "UsageError: Line magic function `%pprint(demographies.body)` not found.\n"
     ]
    }
   ],
   "source": [
    "%pprint(demographies.body)"
   ]
  },
  {
   "cell_type": "code",
   "execution_count": null,
   "id": "9ee521c1-e354-4f00-b84b-8423674842f7",
   "metadata": {},
   "outputs": [],
   "source": []
  }
 ],
 "metadata": {
  "kernelspec": {
   "display_name": "Python 3 (ipykernel)",
   "language": "python",
   "name": "python3"
  },
  "language_info": {
   "codemirror_mode": {
    "name": "ipython",
    "version": 3
   },
   "file_extension": ".py",
   "mimetype": "text/x-python",
   "name": "python",
   "nbconvert_exporter": "python",
   "pygments_lexer": "ipython3",
   "version": "3.10.12"
  }
 },
 "nbformat": 4,
 "nbformat_minor": 5
}
